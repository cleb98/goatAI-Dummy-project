{
 "cells": [
  {
   "metadata": {},
   "cell_type": "markdown",
   "source": "# SLURM commands",
   "id": "3aa3591a259e0150"
  },
  {
   "metadata": {},
   "cell_type": "markdown",
   "source": [
    "### login to server:\n",
    " ssh cbellucci@ailb-login-03.ing.unimore.it  \\"
   ],
   "id": "6e8bc10a82aee2bc"
  },
  {
   "metadata": {},
   "cell_type": "markdown",
   "source": "",
   "id": "58e3c6ad202c63f1"
  },
  {
   "metadata": {},
   "cell_type": "markdown",
   "source": [
    "# transfer images from server to local specifing the path\n",
    "scp cbellucci@ailb-login-03.ing.unimore.it:/homes/cbellucci/segmentation/dataset/kwasir-seg/train/*.png \"C:\\Users\\cribe\\OneDrive\\Desktop\\GoatAI\\dataset\\kwasir-seg\\train\""
   ],
   "id": "a52aa6f5f1f7d0f6"
  },
  {
   "metadata": {},
   "cell_type": "code",
   "outputs": [],
   "execution_count": null,
   "source": "",
   "id": "95e905756a31f27"
  },
  {
   "metadata": {},
   "cell_type": "code",
   "outputs": [],
   "execution_count": null,
   "source": "",
   "id": "d2bd80939a3b9432"
  },
  {
   "metadata": {},
   "cell_type": "markdown",
   "source": "",
   "id": "de6ef62c48bf245b"
  },
  {
   "metadata": {},
   "cell_type": "code",
   "outputs": [],
   "execution_count": null,
   "source": "",
   "id": "cf9e5659e5360d99"
  },
  {
   "metadata": {},
   "cell_type": "code",
   "outputs": [],
   "execution_count": null,
   "source": "",
   "id": "8a5a1f9c8581a90"
  },
  {
   "metadata": {},
   "cell_type": "code",
   "outputs": [],
   "execution_count": null,
   "source": "",
   "id": "7f07ec163dde052b"
  },
  {
   "metadata": {},
   "cell_type": "code",
   "outputs": [],
   "execution_count": null,
   "source": "",
   "id": "368ad3d3948579c1"
  },
  {
   "metadata": {},
   "cell_type": "code",
   "outputs": [],
   "execution_count": null,
   "source": "",
   "id": "f73e6dde1c1d39de"
  },
  {
   "metadata": {},
   "cell_type": "code",
   "outputs": [],
   "execution_count": null,
   "source": "",
   "id": "59b4201d74d18b9e"
  },
  {
   "metadata": {},
   "cell_type": "code",
   "outputs": [],
   "execution_count": null,
   "source": "",
   "id": "3a1e3a2e7cad9997"
  },
  {
   "metadata": {},
   "cell_type": "code",
   "outputs": [],
   "execution_count": null,
   "source": "",
   "id": "d8ae3d914507a64e"
  },
  {
   "metadata": {},
   "cell_type": "markdown",
   "source": " ssh cbellucci@ailb-login-03.ing.unimore.it",
   "id": "a711acbdc37360f9"
  },
  {
   "metadata": {},
   "cell_type": "markdown",
   "source": [
    "# job allocation using srun on production partition\n",
    "srun --partition=all_usr_prod --account=tesi_cbellucci --time=00:15:00 --gres=gpu:1 --pty bash\n"
   ],
   "id": "e732ec994f856811"
  }
 ],
 "metadata": {
  "kernelspec": {
   "display_name": "Python 3",
   "language": "python",
   "name": "python3"
  },
  "language_info": {
   "codemirror_mode": {
    "name": "ipython",
    "version": 2
   },
   "file_extension": ".py",
   "mimetype": "text/x-python",
   "name": "python",
   "nbconvert_exporter": "python",
   "pygments_lexer": "ipython2",
   "version": "2.7.6"
  }
 },
 "nbformat": 4,
 "nbformat_minor": 5
}
